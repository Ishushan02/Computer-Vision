{
  "cells": [
    {
      "cell_type": "markdown",
      "metadata": {
        "colab_type": "text",
        "id": "view-in-github"
      },
      "source": [
        "<a href=\"https://colab.research.google.com/github/mrdbourke/pytorch-deep-learning/blob/main/extras/exercises/01_pytorch_workflow_exercises.ipynb\" target=\"_parent\"><img src=\"https://colab.research.google.com/assets/colab-badge.svg\" alt=\"Open In Colab\"/></a>"
      ]
    },
    {
      "cell_type": "markdown",
      "metadata": {
        "id": "N8LsPXZti9Sw"
      },
      "source": [
        "# 01. PyTorch Workflow Exercise Template\n",
        "\n",
        "The following is a template for the PyTorch workflow exercises.\n",
        "\n",
        "It's only starter code and it's your job to fill in the blanks.\n",
        "\n",
        "Because of the flexibility of PyTorch, there may be more than one way to answer the question.\n",
        "\n",
        "Don't worry about trying to be *right* just try writing code that suffices the question.\n",
        "\n",
        "You can see one form of [solutions on GitHub](https://github.com/mrdbourke/pytorch-deep-learning/tree/main/extras/solutions) (but try the exercises below yourself first!)."
      ]
    },
    {
      "cell_type": "code",
      "execution_count": 19,
      "metadata": {
        "id": "Glu2fM4dkNlx"
      },
      "outputs": [],
      "source": [
        "# Import necessary libraries\n",
        "import torch\n",
        "from torch import nn\n",
        "import numpy as np\n",
        "import matplotlib.pyplot as plt"
      ]
    },
    {
      "cell_type": "code",
      "execution_count": 20,
      "metadata": {
        "id": "LqKhXY26m31s"
      },
      "outputs": [],
      "source": [
        "# Setup device-agnostic code\n"
      ]
    },
    {
      "cell_type": "markdown",
      "metadata": {
        "id": "g7HUhxCxjeBx"
      },
      "source": [
        "## 1. Create a straight line dataset using the linear regression formula (`weight * X + bias`).\n",
        "  * Set `weight=0.3` and `bias=0.9` there should be at least 100 datapoints total. \n",
        "  * Split the data into 80% training, 20% testing.\n",
        "  * Plot the training and testing data so it becomes visual.\n",
        "\n",
        "Your output of the below cell should look something like:\n",
        "```\n",
        "Number of X samples: 100\n",
        "Number of y samples: 100\n",
        "First 10 X & y samples:\n",
        "X: tensor([0.0000, 0.0100, 0.0200, 0.0300, 0.0400, 0.0500, 0.0600, 0.0700, 0.0800,\n",
        "        0.0900])\n",
        "y: tensor([0.9000, 0.9030, 0.9060, 0.9090, 0.9120, 0.9150, 0.9180, 0.9210, 0.9240,\n",
        "        0.9270])\n",
        "```\n",
        "\n",
        "Of course the numbers in `X` and `y` may be different but ideally they're created using the linear regression formula."
      ]
    },
    {
      "cell_type": "code",
      "execution_count": 21,
      "metadata": {
        "id": "KbDG5MV7jhvE"
      },
      "outputs": [
        {
          "name": "stdout",
          "output_type": "stream",
          "text": [
            "Number of X samples: 99900\n",
            "Number of y samples: 99900\n",
            "First 10 X & y samples:\n",
            "X: tensor([1.0000, 1.0100, 1.0200, 1.0300, 1.0400, 1.0500, 1.0600, 1.0700, 1.0800,\n",
            "        1.0900])\n",
            "y: tensor([1.2000, 1.2030, 1.2060, 1.2090, 1.2120, 1.2150, 1.2180, 1.2210, 1.2240,\n",
            "        1.2270])\n"
          ]
        }
      ],
      "source": [
        "# Create the data parameters\n",
        "X = torch.arange(1, 1000, 0.01)\n",
        "\n",
        "# Make X and y using linear regression feature\n",
        "y = 0.3 * X + 0.9\n",
        "\n",
        "print(f\"Number of X samples: {len(X)}\")\n",
        "print(f\"Number of y samples: {len(y)}\")\n",
        "print(f\"First 10 X & y samples:\\nX: {X[:10]}\\ny: {y[:10]}\")"
      ]
    },
    {
      "cell_type": "code",
      "execution_count": 22,
      "metadata": {
        "id": "GlwtT1djkmLw"
      },
      "outputs": [],
      "source": [
        "# Split the data into training and testing\n",
        "train_size = int(0.8 * len(X))\n",
        "\n",
        "trainX, trainY = X[:train_size], y[:train_size]\n",
        "testX, testY = X[train_size:], y[train_size:]\n"
      ]
    },
    {
      "cell_type": "code",
      "execution_count": 23,
      "metadata": {
        "id": "29iQZFNhlYJ-"
      },
      "outputs": [
        {
          "data": {
            "text/plain": [
              "<matplotlib.collections.PathCollection at 0x17c61e190>"
            ]
          },
          "execution_count": 23,
          "metadata": {},
          "output_type": "execute_result"
        },
        {
          "data": {
            "image/png": "[encoded data removed]",
            "text/plain": [
              "<Figure size 640x480 with 1 Axes>"
            ]
          },
          "metadata": {},
          "output_type": "display_data"
        }
      ],
      "source": [
        "# Plot the training and testing data \n",
        "\n",
        "plt.scatter(trainX, y = trainY)"
      ]
    },
    {
      "cell_type": "markdown",
      "metadata": {
        "id": "ImZoe3v8jif8"
      },
      "source": [
        "## 2. Build a PyTorch model by subclassing `nn.Module`. \n",
        "  * Inside should be a randomly initialized `nn.Parameter()` with `requires_grad=True`, one for `weights` and one for `bias`. \n",
        "  * Implement the `forward()` method to compute the linear regression function you used to create the dataset in 1. \n",
        "  * Once you've constructed the model, make an instance of it and check its `state_dict()`.\n",
        "  * **Note:** If you'd like to use `nn.Linear()` instead of `nn.Parameter()` you can."
      ]
    },
    {
      "cell_type": "code",
      "execution_count": 29,
      "metadata": {
        "id": "qzd__Y5rjtB8"
      },
      "outputs": [
        {
          "name": "stdout",
          "output_type": "stream",
          "text": [
            " Epoch:0 Train Loss is 139.523193359375 and test Loss is 303.1329650878906\n",
            " Epoch:1 Train Loss is 135.50723266601562 and test Loss is 294.12200927734375\n",
            " Epoch:2 Train Loss is 131.49127197265625 and test Loss is 285.1110534667969\n",
            " Epoch:3 Train Loss is 127.47532653808594 and test Loss is 276.1000671386719\n",
            " Epoch:4 Train Loss is 123.45938110351562 and test Loss is 267.0891418457031\n",
            " Epoch:5 Train Loss is 119.44342803955078 and test Loss is 258.0782165527344\n",
            " Epoch:6 Train Loss is 115.42747497558594 and test Loss is 249.0672607421875\n",
            " Epoch:7 Train Loss is 111.4115219116211 and test Loss is 240.0562744140625\n",
            " Epoch:8 Train Loss is 107.39556884765625 and test Loss is 231.04534912109375\n",
            " Epoch:9 Train Loss is 103.37963104248047 and test Loss is 222.03440856933594\n",
            " Epoch:10 Train Loss is 99.36367797851562 and test Loss is 213.02345275878906\n",
            " Epoch:11 Train Loss is 95.34772491455078 and test Loss is 204.0124969482422\n",
            " Epoch:12 Train Loss is 91.33177185058594 and test Loss is 195.00155639648438\n",
            " Epoch:13 Train Loss is 87.31582641601562 and test Loss is 185.9906005859375\n",
            " Epoch:14 Train Loss is 83.29988861083984 and test Loss is 176.9796600341797\n",
            " Epoch:15 Train Loss is 79.28392028808594 and test Loss is 167.9686737060547\n",
            " Epoch:16 Train Loss is 75.26797485351562 and test Loss is 158.957763671875\n",
            " Epoch:17 Train Loss is 71.25202941894531 and test Loss is 149.94679260253906\n",
            " Epoch:18 Train Loss is 67.23607635498047 and test Loss is 140.9358367919922\n",
            " Epoch:19 Train Loss is 63.22011947631836 and test Loss is 131.92489624023438\n",
            " Epoch:20 Train Loss is 59.20417404174805 and test Loss is 122.91392517089844\n",
            " Epoch:21 Train Loss is 55.1882209777832 and test Loss is 113.9029769897461\n",
            " Epoch:22 Train Loss is 51.17226791381836 and test Loss is 104.89203643798828\n",
            " Epoch:23 Train Loss is 47.15631103515625 and test Loss is 95.88106536865234\n",
            " Epoch:24 Train Loss is 43.140357971191406 and test Loss is 86.8701171875\n",
            " Epoch:25 Train Loss is 39.124412536621094 and test Loss is 77.85916900634766\n",
            " Epoch:26 Train Loss is 35.10845947265625 and test Loss is 68.84819793701172\n",
            " Epoch:27 Train Loss is 31.092504501342773 and test Loss is 59.837257385253906\n",
            " Epoch:28 Train Loss is 27.07655143737793 and test Loss is 50.8263053894043\n",
            " Epoch:29 Train Loss is 23.060604095458984 and test Loss is 41.81534194946289\n",
            " Epoch:30 Train Loss is 19.044647216796875 and test Loss is 32.804405212402344\n",
            " Epoch:31 Train Loss is 15.028705596923828 and test Loss is 23.7934513092041\n",
            " Epoch:32 Train Loss is 11.012755393981934 and test Loss is 14.782523155212402\n",
            " Epoch:33 Train Loss is 6.9968109130859375 and test Loss is 5.771578788757324\n",
            " Epoch:34 Train Loss is 2.9808664321899414 and test Loss is 3.239372730255127\n",
            " Epoch:35 Train Loss is 1.185497760772705 and test Loss is 10.50332260131836\n",
            " Epoch:36 Train Loss is 4.323493957519531 and test Loss is 16.11505126953125\n",
            " Epoch:37 Train Loss is 6.80663537979126 and test Loss is 20.239547729492188\n",
            " Epoch:38 Train Loss is 8.637971878051758 and test Loss is 23.02895164489746\n",
            " Epoch:39 Train Loss is 9.878005027770996 and test Loss is 24.620298385620117\n",
            " Epoch:40 Train Loss is 10.585901260375977 and test Loss is 25.136571884155273\n",
            " Epoch:41 Train Loss is 10.815778732299805 and test Loss is 24.6879825592041\n",
            " Epoch:42 Train Loss is 10.616525650024414 and test Loss is 23.37331199645996\n",
            " Epoch:43 Train Loss is 10.0321626663208 and test Loss is 21.28117561340332\n",
            " Epoch:44 Train Loss is 9.102388381958008 and test Loss is 18.491180419921875\n",
            " Epoch:45 Train Loss is 7.863171100616455 and test Loss is 15.075004577636719\n",
            " Epoch:46 Train Loss is 6.347668170928955 and test Loss is 11.097525596618652\n",
            " Epoch:47 Train Loss is 4.588047504425049 and test Loss is 6.619056701660156\n",
            " Epoch:48 Train Loss is 2.6233131885528564 and test Loss is 1.7024316787719727\n",
            " Epoch:49 Train Loss is 0.5974470376968384 and test Loss is 3.443394899368286\n",
            " Epoch:50 Train Loss is 1.9385606050491333 and test Loss is 7.159694194793701\n",
            " Epoch:51 Train Loss is 3.594285011291504 and test Loss is 9.591035842895508\n",
            " Epoch:52 Train Loss is 4.677376747131348 and test Loss is 10.867240905761719\n",
            " Epoch:53 Train Loss is 5.24567985534668 and test Loss is 11.10490894317627\n",
            " Epoch:54 Train Loss is 5.351172924041748 and test Loss is 10.408829689025879\n",
            " Epoch:55 Train Loss is 5.040533542633057 and test Loss is 8.873111724853516\n",
            " Epoch:56 Train Loss is 4.355721473693848 and test Loss is 6.582378387451172\n",
            " Epoch:57 Train Loss is 3.334428548812866 and test Loss is 3.6126344203948975\n",
            " Epoch:58 Train Loss is 2.010558605194092 and test Loss is 0.04502694681286812\n",
            " Epoch:59 Train Loss is 0.4145413041114807 and test Loss is 4.097352504730225\n",
            " Epoch:60 Train Loss is 1.544398546218872 and test Loss is 6.9587602615356445\n",
            " Epoch:61 Train Loss is 2.7745819091796875 and test Loss is 8.6453857421875\n",
            " Epoch:62 Train Loss is 3.512880802154541 and test Loss is 9.26778507232666\n",
            " Epoch:63 Train Loss is 3.7867531776428223 and test Loss is 8.930794715881348\n",
            " Epoch:64 Train Loss is 3.6389713287353516 and test Loss is 7.7312188148498535\n",
            " Epoch:65 Train Loss is 3.1132469177246094 and test Loss is 5.758960723876953\n",
            " Epoch:66 Train Loss is 2.2554776668548584 and test Loss is 3.102234363555908\n",
            " Epoch:67 Train Loss is 1.133718490600586 and test Loss is 0.12124832719564438\n",
            " Epoch:68 Train Loss is 0.4496094584465027 and test Loss is 2.1118109226226807\n",
            " Epoch:69 Train Loss is 1.3360984325408936 and test Loss is 2.9932315349578857\n",
            " Epoch:70 Train Loss is 1.7283011674880981 and test Loss is 2.876774787902832\n",
            " Epoch:71 Train Loss is 1.675817608833313 and test Loss is 1.8625915050506592\n",
            " Epoch:72 Train Loss is 1.2232733964920044 and test Loss is 0.04821900278329849\n",
            " Epoch:73 Train Loss is 0.4108012318611145 and test Loss is 2.5077521800994873\n",
            " Epoch:74 Train Loss is 0.897473156452179 and test Loss is 4.005354881286621\n",
            " Epoch:75 Train Loss is 1.5094449520111084 and test Loss is 4.494487285614014\n",
            " Epoch:76 Train Loss is 1.7165696620941162 and test Loss is 4.065614223480225\n",
            " Epoch:77 Train Loss is 1.5354660749435425 and test Loss is 2.81746244430542\n",
            " Epoch:78 Train Loss is 1.020902395248413 and test Loss is 0.8714959025382996\n",
            " Epoch:79 Train Loss is 0.3485468924045563 and test Loss is 1.3455008268356323\n",
            " Epoch:80 Train Loss is 0.9868113994598389 and test Loss is 2.4232444763183594\n",
            " Epoch:81 Train Loss is 1.4660980701446533 and test Loss is 2.4761550426483154\n",
            " Epoch:82 Train Loss is 1.4887117147445679 and test Loss is 1.6071429252624512\n",
            " Epoch:83 Train Loss is 1.1005147695541382 and test Loss is 0.09120334684848785\n",
            " Epoch:84 Train Loss is 0.3427952229976654 and test Loss is 2.5131607055664062\n",
            " Epoch:85 Train Loss is 0.9016938805580139 and test Loss is 3.885261058807373\n",
            " Epoch:86 Train Loss is 1.4633221626281738 and test Loss is 4.255032539367676\n",
            " Epoch:87 Train Loss is 1.6198410987854004 and test Loss is 3.714197874069214\n",
            " Epoch:88 Train Loss is 1.3924543857574463 and test Loss is 2.3644895553588867\n",
            " Epoch:89 Train Loss is 0.8443525433540344 and test Loss is 0.3449488580226898\n",
            " Epoch:90 Train Loss is 0.2826075255870819 and test Loss is 1.377197265625\n",
            " Epoch:91 Train Loss is 0.9901573657989502 and test Loss is 2.001833438873291\n",
            " Epoch:92 Train Loss is 1.267382264137268 and test Loss is 1.6393364667892456\n",
            " Epoch:93 Train Loss is 1.1047509908676147 and test Loss is 0.3889300525188446\n",
            " Epoch:94 Train Loss is 0.5464633107185364 and test Loss is 1.6600620746612549\n",
            " Epoch:95 Train Loss is 0.5823311805725098 and test Loss is 2.7755885124206543\n",
            " Epoch:96 Train Loss is 1.0092684030532837 and test Loss is 2.942018508911133\n",
            " Epoch:97 Train Loss is 1.0770647525787354 and test Loss is 2.2447104454040527\n",
            " Epoch:98 Train Loss is 0.799821138381958 and test Loss is 0.8107352256774902\n",
            " Epoch:99 Train Loss is 0.32676997780799866 and test Loss is 0.9402568340301514\n"
          ]
        }
      ],
      "source": [
        "# Create PyTorch linear regression model by subclassing nn.Module\n",
        "\n",
        "class LinearRegression(nn.Module):\n",
        "\n",
        "    def __init__(self, ):\n",
        "        super().__init__()\n",
        "        self.weights = nn.Parameter(0.1 * torch.randn(1, requires_grad=True, dtype=torch.float32))\n",
        "        self.bias = nn.Parameter(0.1 * torch.randn(1, requires_grad=True, dtype=torch.float32))\n",
        "    \n",
        "    def forward(self, x):\n",
        "        return self.weights * x + self.bias\n",
        "\n",
        "model1 = LinearRegression()\n",
        "\n",
        "lossFn = nn.L1Loss()\n",
        "optimizer = torch.optim.Adam(model1.parameters(), lr=0.01)\n",
        "\n",
        "for each_epoch in range(100):\n",
        "\n",
        "    model1.train()\n",
        "    y_pred = model1(trainX)\n",
        "    loss = lossFn(y_pred, trainY)\n",
        "\n",
        "    optimizer.zero_grad()\n",
        "    loss.backward()\n",
        "    optimizer.step()\n",
        "\n",
        "    model1.eval()\n",
        "    with torch.inference_mode():\n",
        "        test = model1(testX)\n",
        "        test_loss = lossFn(test, testY)\n",
        "    \n",
        "    print(f\" Epoch:{each_epoch} Train Loss is {loss} and test Loss is {test_loss}\")\n",
        "\n"
      ]
    },
    {
      "cell_type": "markdown",
      "metadata": {
        "id": "x4j4TM18jwa7"
      },
      "source": [
        "## 4. Make predictions with the trained model on the test data.\n",
        "  * Visualize these predictions against the original training and testing data (**note:** you may need to make sure the predictions are *not* on the GPU if you want to use non-CUDA-enabled libraries such as matplotlib to plot)."
      ]
    },
    {
      "cell_type": "code",
      "execution_count": null,
      "metadata": {
        "id": "bbMPK5Qjjyx_"
      },
      "outputs": [],
      "source": [
        "# Make predictions with the model\n"
      ]
    },
    {
      "cell_type": "code",
      "execution_count": null,
      "metadata": {
        "id": "K3BdmQaDpFo8"
      },
      "outputs": [],
      "source": [
        "# Plot the predictions (these may need to be on a specific device)\n"
      ]
    },
    {
      "cell_type": "markdown",
      "metadata": {
        "id": "s2OnlMWKjzX8"
      },
      "source": [
        "## 5. Save your trained model's `state_dict()` to file.\n",
        "  * Create a new instance of your model class you made in 2. and load in the `state_dict()` you just saved to it.\n",
        "  * Perform predictions on your test data with the loaded model and confirm they match the original model predictions from 4."
      ]
    },
    {
      "cell_type": "code",
      "execution_count": 33,
      "metadata": {
        "id": "hgxhgD14qr-i"
      },
      "outputs": [],
      "source": [
        "from pathlib import Path\n",
        "\n",
        "# 1. Create models directory \n",
        "modelPath = Path(\"test_model.pth\")\n",
        "torch.save(model1.state_dict(), f=modelPath)\n",
        "# 3. Save the model state dict\n"
      ]
    },
    {
      "cell_type": "code",
      "execution_count": null,
      "metadata": {
        "id": "P9vTgiLRrJ7T"
      },
      "outputs": [],
      "source": [
        "# Create new instance of model and load saved state dict (make sure to put it on the target device)\n"
      ]
    },
    {
      "cell_type": "code",
      "execution_count": null,
      "metadata": {
        "id": "8UGX3VebrVtI"
      },
      "outputs": [],
      "source": [
        "# Make predictions with loaded model and compare them to the previous\n"
      ]
    }
  ],
  "metadata": {
    "accelerator": "GPU",
    "colab": {
      "authorship_tag": "ABX9TyNYzatJtFkfUqqdiR6rYwVL",
      "collapsed_sections": [],
      "include_colab_link": true,
      "name": "01_pytorch_workflow_exercises.ipynb",
      "provenance": []
    },
    "kernelspec": {
      "display_name": "pytorch",
      "language": "python",
      "name": "python3"
    },
    "language_info": {
      "codemirror_mode": {
        "name": "ipython",
        "version": 3
      },
      "file_extension": ".py",
      "mimetype": "text/x-python",
      "name": "python",
      "nbconvert_exporter": "python",
      "pygments_lexer": "ipython3",
      "version": "3.11.11"
    }
  },
  "nbformat": 4,
  "nbformat_minor": 0
}
