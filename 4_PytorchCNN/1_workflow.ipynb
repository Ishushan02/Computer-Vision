{
 "cells": [
  {
   "cell_type": "code",
   "execution_count": 2,
   "id": "cf135fd6",
   "metadata": {},
   "outputs": [],
   "source": [
    "import torch\n",
    "import torch.nn as nn\n",
    "import torchvision\n",
    "from torchvision import datasets\n",
    "from torchvision import transforms\n",
    "from torchvision.transforms import ToTensor\n",
    "import matplotlib.pyplot as plt"
   ]
  },
  {
   "cell_type": "code",
   "execution_count": 4,
   "id": "3218f730",
   "metadata": {},
   "outputs": [
    {
     "data": {
      "text/plain": [
       "(Dataset FashionMNIST\n",
       "     Number of datapoints: 60000\n",
       "     Root location: ./data\n",
       "     Split: Train\n",
       "     StandardTransform\n",
       " Transform: ToTensor()\n",
       " Target transform: False,\n",
       " Dataset FashionMNIST\n",
       "     Number of datapoints: 10000\n",
       "     Root location: ./data\n",
       "     Split: Test\n",
       "     StandardTransform\n",
       " Transform: ToTensor()\n",
       " Target transform: False)"
      ]
     },
     "execution_count": 4,
     "metadata": {},
     "output_type": "execute_result"
    }
   ],
   "source": [
    "trainData = datasets.FashionMNIST(\n",
    "    root=\"./data\",\n",
    "    train=True,\n",
    "    transform=ToTensor(),\n",
    "    download=True,\n",
    "    target_transform=False\n",
    ")\n",
    "\n",
    "testData = datasets.FashionMNIST(\n",
    "    root=\"./data\",\n",
    "    train=False,\n",
    "    transform=ToTensor(),\n",
    "    target_transform=False,\n",
    "    download=True\n",
    ")\n",
    "\n",
    "trainData, testData"
   ]
  },
  {
   "cell_type": "code",
   "execution_count": 10,
   "id": "4282f5da",
   "metadata": {},
   "outputs": [
    {
     "data": {
      "text/plain": [
       "(60000, 10000)"
      ]
     },
     "execution_count": 10,
     "metadata": {},
     "output_type": "execute_result"
    }
   ],
   "source": [
    "len(trainData), len(testData)"
   ]
  },
  {
   "cell_type": "code",
   "execution_count": 13,
   "id": "55023fb3",
   "metadata": {},
   "outputs": [
    {
     "data": {
      "text/plain": [
       "(torch.Size([60000, 28, 28]), torch.Size([60000]))"
      ]
     },
     "execution_count": 13,
     "metadata": {},
     "output_type": "execute_result"
    }
   ],
   "source": [
    "trainData.data.shape, trainData.targets.shape"
   ]
  },
  {
   "cell_type": "code",
   "execution_count": 14,
   "id": "6d75e246",
   "metadata": {},
   "outputs": [
    {
     "data": {
      "text/plain": [
       "['T-shirt/top',\n",
       " 'Trouser',\n",
       " 'Pullover',\n",
       " 'Dress',\n",
       " 'Coat',\n",
       " 'Sandal',\n",
       " 'Shirt',\n",
       " 'Sneaker',\n",
       " 'Bag',\n",
       " 'Ankle boot']"
      ]
     },
     "execution_count": 14,
     "metadata": {},
     "output_type": "execute_result"
    }
   ],
   "source": [
    "trainData.classes"
   ]
  },
  {
   "cell_type": "code",
   "execution_count": 17,
   "id": "2e9d0f5f",
   "metadata": {},
   "outputs": [
    {
     "data": {
      "text/plain": [
       "(torch.Size([28, 28]), tensor(9))"
      ]
     },
     "execution_count": 17,
     "metadata": {},
     "output_type": "execute_result"
    }
   ],
   "source": [
    "trainData.data[0].shape, trainData.targets[0]"
   ]
  },
  {
   "cell_type": "code",
   "execution_count": 24,
   "id": "0a08a2ff",
   "metadata": {},
   "outputs": [
    {
     "data": {
      "text/plain": [
       "(np.float64(-0.5), np.float64(27.5), np.float64(27.5), np.float64(-0.5))"
      ]
     },
     "execution_count": 24,
     "metadata": {},
     "output_type": "execute_result"
    },
    {
     "data": {
      "image/png": "[encoded data removed]",
      "text/plain": [
       "<Figure size 640x480 with 1 Axes>"
      ]
     },
     "metadata": {},
     "output_type": "display_data"
    }
   ],
   "source": [
    "plt.imshow(trainData.data[0], cmap='gray')\n",
    "plt.title(trainData.targets[0])\n",
    "plt.axis(False)"
   ]
  },
  {
   "cell_type": "code",
   "execution_count": 56,
   "id": "bcc742f9",
   "metadata": {},
   "outputs": [],
   "source": [
    "class FashionModelLinear(nn.Module):\n",
    "\n",
    "    def __init__(self, inFeatures, hiddenFeatures, outFeatures):\n",
    "        super().__init__()\n",
    "        self.layer = nn.Sequential(\n",
    "            nn.Flatten(),\n",
    "            nn.Linear(inFeatures, hiddenFeatures),\n",
    "            nn.ReLU(),\n",
    "            nn.Linear(hiddenFeatures, outFeatures)\n",
    "        )\n",
    "\n",
    "    def forward(self, x):\n",
    "        return self.layer(x)\n",
    "    \n",
    "\n",
    "model = FashionModelLinear(inFeatures=28*28, hiddenFeatures=256, outFeatures=10)\n",
    "\n",
    "# test = torch.rand(1, 28, 28)\n",
    "# model(test)"
   ]
  },
  {
   "cell_type": "code",
   "execution_count": 65,
   "id": "c20b4527",
   "metadata": {},
   "outputs": [
    {
     "name": "stderr",
     "output_type": "stream",
     "text": [
      "Epoch [1/20]: 100%|██████████| 938/938 [00:01<00:00, 739.96it/s]\n"
     ]
    },
    {
     "name": "stdout",
     "output_type": "stream",
     "text": [
      "Average Train Loss is : 0.3314052537591981 and Test Loss is : 0.7893593122435224 and Accuracy is 84.63\n"
     ]
    },
    {
     "name": "stderr",
     "output_type": "stream",
     "text": [
      "Epoch [2/20]: 100%|██████████| 938/938 [00:01<00:00, 816.62it/s]\n"
     ]
    },
    {
     "name": "stdout",
     "output_type": "stream",
     "text": [
      "Average Train Loss is : 0.32210175034159155 and Test Loss is : 0.7994424789005025 and Accuracy is 84.56\n"
     ]
    },
    {
     "name": "stderr",
     "output_type": "stream",
     "text": [
      "Epoch [3/20]: 100%|██████████| 938/938 [00:01<00:00, 785.76it/s]\n"
     ]
    },
    {
     "name": "stdout",
     "output_type": "stream",
     "text": [
      "Average Train Loss is : 0.32132239241812277 and Test Loss is : 0.7120408688191395 and Accuracy is 85.21\n"
     ]
    },
    {
     "name": "stderr",
     "output_type": "stream",
     "text": [
      "Epoch [4/20]: 100%|██████████| 938/938 [00:01<00:00, 894.89it/s]\n"
     ]
    },
    {
     "name": "stdout",
     "output_type": "stream",
     "text": [
      "Average Train Loss is : 0.31938425526181774 and Test Loss is : 0.8965131854935057 and Accuracy is 83.74\n"
     ]
    },
    {
     "name": "stderr",
     "output_type": "stream",
     "text": [
      "Epoch [5/20]: 100%|██████████| 938/938 [00:01<00:00, 823.91it/s]\n"
     ]
    },
    {
     "name": "stdout",
     "output_type": "stream",
     "text": [
      "Average Train Loss is : 0.3441306862042848 and Test Loss is : 0.7588304665627753 and Accuracy is 83.98\n"
     ]
    },
    {
     "name": "stderr",
     "output_type": "stream",
     "text": [
      "Epoch [6/20]: 100%|██████████| 938/938 [00:01<00:00, 809.53it/s]\n"
     ]
    },
    {
     "name": "stdout",
     "output_type": "stream",
     "text": [
      "Average Train Loss is : 0.34124074234510027 and Test Loss is : 0.74790143055521 and Accuracy is 84.73\n"
     ]
    },
    {
     "name": "stderr",
     "output_type": "stream",
     "text": [
      "Epoch [7/20]: 100%|██████████| 938/938 [00:01<00:00, 822.37it/s]\n"
     ]
    },
    {
     "name": "stdout",
     "output_type": "stream",
     "text": [
      "Average Train Loss is : 0.3694148899903938 and Test Loss is : 0.966350492588274 and Accuracy is 82.7\n"
     ]
    },
    {
     "name": "stderr",
     "output_type": "stream",
     "text": [
      "Epoch [8/20]: 100%|██████████| 938/938 [00:01<00:00, 840.41it/s]\n"
     ]
    },
    {
     "name": "stdout",
     "output_type": "stream",
     "text": [
      "Average Train Loss is : 0.33066857021564106 and Test Loss is : 0.7570118684867385 and Accuracy is 83.46\n"
     ]
    },
    {
     "name": "stderr",
     "output_type": "stream",
     "text": [
      "Epoch [9/20]: 100%|██████████| 938/938 [00:01<00:00, 694.18it/s]\n"
     ]
    },
    {
     "name": "stdout",
     "output_type": "stream",
     "text": [
      "Average Train Loss is : 0.30757385581286983 and Test Loss is : 0.7667215358299814 and Accuracy is 84.01\n"
     ]
    },
    {
     "name": "stderr",
     "output_type": "stream",
     "text": [
      "Epoch [10/20]: 100%|██████████| 938/938 [00:01<00:00, 786.45it/s]\n"
     ]
    },
    {
     "name": "stdout",
     "output_type": "stream",
     "text": [
      "Average Train Loss is : 0.31739015889955735 and Test Loss is : 0.8060247658923932 and Accuracy is 83.71\n"
     ]
    },
    {
     "name": "stderr",
     "output_type": "stream",
     "text": [
      "Epoch [11/20]: 100%|██████████| 938/938 [00:01<00:00, 795.38it/s]\n"
     ]
    },
    {
     "name": "stdout",
     "output_type": "stream",
     "text": [
      "Average Train Loss is : 0.32283773384432296 and Test Loss is : 0.7414308795883398 and Accuracy is 84.24\n"
     ]
    },
    {
     "name": "stderr",
     "output_type": "stream",
     "text": [
      "Epoch [12/20]: 100%|██████████| 938/938 [00:01<00:00, 797.83it/s]\n"
     ]
    },
    {
     "name": "stdout",
     "output_type": "stream",
     "text": [
      "Average Train Loss is : 0.33641190870182475 and Test Loss is : 0.716356705043726 and Accuracy is 83.12\n"
     ]
    },
    {
     "name": "stderr",
     "output_type": "stream",
     "text": [
      "Epoch [13/20]: 100%|██████████| 938/938 [00:01<00:00, 880.54it/s]\n"
     ]
    },
    {
     "name": "stdout",
     "output_type": "stream",
     "text": [
      "Average Train Loss is : 0.33194534617986504 and Test Loss is : 0.7167539489307221 and Accuracy is 83.78\n"
     ]
    },
    {
     "name": "stderr",
     "output_type": "stream",
     "text": [
      "Epoch [14/20]: 100%|██████████| 938/938 [00:00<00:00, 955.19it/s]\n"
     ]
    },
    {
     "name": "stdout",
     "output_type": "stream",
     "text": [
      "Average Train Loss is : 0.3229131973437917 and Test Loss is : 0.7873229933012823 and Accuracy is 84.7\n"
     ]
    },
    {
     "name": "stderr",
     "output_type": "stream",
     "text": [
      "Epoch [15/20]: 100%|██████████| 938/938 [00:01<00:00, 934.36it/s]\n"
     ]
    },
    {
     "name": "stdout",
     "output_type": "stream",
     "text": [
      "Average Train Loss is : 0.3161509492551721 and Test Loss is : 0.7126976041846974 and Accuracy is 84.81\n"
     ]
    },
    {
     "name": "stderr",
     "output_type": "stream",
     "text": [
      "Epoch [16/20]: 100%|██████████| 938/938 [00:00<00:00, 962.75it/s]\n"
     ]
    },
    {
     "name": "stdout",
     "output_type": "stream",
     "text": [
      "Average Train Loss is : 0.31752072899802913 and Test Loss is : 0.7501153413467346 and Accuracy is 84.33\n"
     ]
    },
    {
     "name": "stderr",
     "output_type": "stream",
     "text": [
      "Epoch [17/20]: 100%|██████████| 938/938 [00:00<00:00, 960.45it/s]\n"
     ]
    },
    {
     "name": "stdout",
     "output_type": "stream",
     "text": [
      "Average Train Loss is : 0.3330784899466582 and Test Loss is : 0.8348944010628256 and Accuracy is 84.18\n"
     ]
    },
    {
     "name": "stderr",
     "output_type": "stream",
     "text": [
      "Epoch [18/20]: 100%|██████████| 938/938 [00:00<00:00, 952.54it/s]\n"
     ]
    },
    {
     "name": "stdout",
     "output_type": "stream",
     "text": [
      "Average Train Loss is : 0.34012514926286647 and Test Loss is : 0.9022228908576783 and Accuracy is 84.58\n"
     ]
    },
    {
     "name": "stderr",
     "output_type": "stream",
     "text": [
      "Epoch [19/20]: 100%|██████████| 938/938 [00:00<00:00, 964.71it/s]\n"
     ]
    },
    {
     "name": "stdout",
     "output_type": "stream",
     "text": [
      "Average Train Loss is : 0.3343734875766199 and Test Loss is : 0.7469343291536258 and Accuracy is 84.92\n"
     ]
    },
    {
     "name": "stderr",
     "output_type": "stream",
     "text": [
      "Epoch [20/20]: 100%|██████████| 938/938 [00:00<00:00, 955.03it/s]\n"
     ]
    },
    {
     "name": "stdout",
     "output_type": "stream",
     "text": [
      "Average Train Loss is : 0.3118642745400543 and Test Loss is : 0.7357124373032029 and Accuracy is 84.94\n"
     ]
    }
   ],
   "source": [
    "from torch.utils.data import DataLoader, TensorDataset, Dataset\n",
    "import torch.optim as optim\n",
    "from tqdm import tqdm\n",
    "\n",
    "device = torch.device(\"cpu\")\n",
    "model.to(device)\n",
    "\n",
    "trainTensor = TensorDataset(trainData.data, trainData.targets)\n",
    "testTensor = TensorDataset(testData.data, testData.targets)\n",
    "\n",
    "\n",
    "trainloader = DataLoader(trainTensor, batch_size=64, shuffle=True)\n",
    "testLoader = DataLoader(testTensor, batch_size=64)\n",
    "\n",
    "epochs = 20\n",
    "lossFn = torch.nn.CrossEntropyLoss()\n",
    "optimizer = optim.Adam(params=model.parameters(), lr=1e-3)\n",
    "\n",
    "for each_epoch in range(epochs):\n",
    "    model.train()\n",
    "    trainLoss = 0.0\n",
    "    loop = tqdm(trainloader, desc=f\"Epoch [{each_epoch+1}/{epochs}]\")\n",
    "    for trainX, trainY in loop:\n",
    "        trainX, trainY = trainX.to(device).float(), trainY.to(device)\n",
    "        output = model(trainX)\n",
    "        # print(output.shape, trainY.shape)\n",
    "        lossVal = lossFn(output, trainY)\n",
    "        optimizer.zero_grad()\n",
    "        lossVal.backward()\n",
    "        optimizer.step()\n",
    "        trainLoss += lossVal.item()\n",
    "    avgtrainLoss = trainLoss/len(trainloader)\n",
    "\n",
    "    testloss = 0.0\n",
    "    correct = 0\n",
    "    total = 0\n",
    "\n",
    "    model.eval()\n",
    "    with torch.inference_mode():\n",
    "        for testX, testY in testLoader:\n",
    "            testX, testY = testX.to(device).float(), testY.to(device)\n",
    "            pred = model(testX)\n",
    "            losstest = lossFn(pred, testY)\n",
    "            testloss += losstest.item()\n",
    "\n",
    "            predicted = torch.argmax(pred, dim=1)\n",
    "            correct += (predicted == testY).sum().item()\n",
    "            total += testY.size(0)\n",
    "            # print(val, pred)\n",
    "    accuracy = 100 * correct / total\n",
    "    avgtestLoss = testloss/len(testLoader)\n",
    "    print(f\"Average Train Loss is : {avgtrainLoss} and Test Loss is : {avgtestLoss} and Accuracy is {accuracy}\")\n",
    "    # break"
   ]
  },
  {
   "cell_type": "code",
   "execution_count": null,
   "id": "e01a3386",
   "metadata": {},
   "outputs": [],
   "source": []
  }
 ],
 "metadata": {
  "kernelspec": {
   "display_name": "pytorch",
   "language": "python",
   "name": "python3"
  },
  "language_info": {
   "codemirror_mode": {
    "name": "ipython",
    "version": 3
   },
   "file_extension": ".py",
   "mimetype": "text/x-python",
   "name": "python",
   "nbconvert_exporter": "python",
   "pygments_lexer": "ipython3",
   "version": "3.11.11"
  }
 },
 "nbformat": 4,
 "nbformat_minor": 5
}
