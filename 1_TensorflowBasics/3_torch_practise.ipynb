{
  "nbformat": 4,
  "nbformat_minor": 0,
  "metadata": {
    "colab": {
      "provenance": []
    },
    "kernelspec": {
      "name": "python3",
      "display_name": "Python 3"
    },
    "language_info": {
      "name": "python"
    }
  },
  "cells": [
    {
      "cell_type": "code",
      "execution_count": 1,
      "metadata": {
        "id": "aNkNLDLFnwac"
      },
      "outputs": [],
      "source": [
        "import torch\n",
        "import numpy as np"
      ]
    },
    {
      "cell_type": "code",
      "source": [
        "scalar = torch.tensor(1)\n",
        "scalar, scalar.item(), scalar.ndim"
      ],
      "metadata": {
        "colab": {
          "base_uri": "https://localhost:8080/"
        },
        "id": "iDFMF2bKqLyI",
        "outputId": "9b0d272a-c0f4-41c2-936d-78aefcf3f698"
      },
      "execution_count": 2,
      "outputs": [
        {
          "output_type": "execute_result",
          "data": {
            "text/plain": [
              "(tensor(1), 1, 0)"
            ]
          },
          "metadata": {},
          "execution_count": 2
        }
      ]
    },
    {
      "cell_type": "code",
      "source": [
        "vector = torch.tensor([1, 2, 3, 4, 5])\n",
        "vector, vector.ndim, vector.shape"
      ],
      "metadata": {
        "colab": {
          "base_uri": "https://localhost:8080/"
        },
        "id": "PIW6_c-_qOtK",
        "outputId": "ab60119b-4611-4399-b1b7-714ba9d7bdc7"
      },
      "execution_count": 3,
      "outputs": [
        {
          "output_type": "execute_result",
          "data": {
            "text/plain": [
              "(tensor([1, 2, 3, 4, 5]), 1, torch.Size([5]))"
            ]
          },
          "metadata": {},
          "execution_count": 3
        }
      ]
    },
    {
      "cell_type": "code",
      "source": [
        "matrix = torch.tensor([[1, 2, 3, 4], [5, 6, 7, 8]])\n",
        "matrix, matrix.ndim, matrix.shape"
      ],
      "metadata": {
        "colab": {
          "base_uri": "https://localhost:8080/"
        },
        "id": "5xu9D5jNqqds",
        "outputId": "c8c8e2b8-d58f-43c7-f81e-db166f25004b"
      },
      "execution_count": 4,
      "outputs": [
        {
          "output_type": "execute_result",
          "data": {
            "text/plain": [
              "(tensor([[1, 2, 3, 4],\n",
              "         [5, 6, 7, 8]]),\n",
              " 2,\n",
              " torch.Size([2, 4]))"
            ]
          },
          "metadata": {},
          "execution_count": 4
        }
      ]
    },
    {
      "cell_type": "code",
      "source": [
        "tensor = torch.tensor([[[1, 2, 3], [4, 5, 6], [7, 8, 9]]])\n",
        "tensor, tensor.ndim, tensor.shape"
      ],
      "metadata": {
        "colab": {
          "base_uri": "https://localhost:8080/"
        },
        "id": "nZ1I6oQWrF_T",
        "outputId": "e8e18ffe-fc30-44e4-bf8e-cc9688de4d76"
      },
      "execution_count": 5,
      "outputs": [
        {
          "output_type": "execute_result",
          "data": {
            "text/plain": [
              "(tensor([[[1, 2, 3],\n",
              "          [4, 5, 6],\n",
              "          [7, 8, 9]]]),\n",
              " 3,\n",
              " torch.Size([1, 3, 3]))"
            ]
          },
          "metadata": {},
          "execution_count": 5
        }
      ]
    },
    {
      "cell_type": "code",
      "source": [
        "randomMat = torch.rand(4, 2, 4)\n",
        "randomMat, randomMat.ndim, randomMat.shape"
      ],
      "metadata": {
        "colab": {
          "base_uri": "https://localhost:8080/"
        },
        "id": "hx0ShEDyrtOC",
        "outputId": "8a50a3a3-cc91-4ad8-b86a-f6a7603e7c5c"
      },
      "execution_count": 6,
      "outputs": [
        {
          "output_type": "execute_result",
          "data": {
            "text/plain": [
              "(tensor([[[0.2311, 0.0027, 0.8436, 0.4949],\n",
              "          [0.2336, 0.4721, 0.9210, 0.3112]],\n",
              " \n",
              "         [[0.4355, 0.3583, 0.9970, 0.3899],\n",
              "          [0.5103, 0.0993, 0.3415, 0.4887]],\n",
              " \n",
              "         [[0.2627, 0.2915, 0.9575, 0.2548],\n",
              "          [0.3344, 0.1296, 0.8317, 0.3870]],\n",
              " \n",
              "         [[0.2078, 0.1831, 0.3157, 0.2752],\n",
              "          [0.7991, 0.6947, 0.5625, 0.2490]]]),\n",
              " 3,\n",
              " torch.Size([4, 2, 4]))"
            ]
          },
          "metadata": {},
          "execution_count": 6
        }
      ]
    },
    {
      "cell_type": "code",
      "source": [
        "image = torch.rand(size = (128, 128, 3))\n",
        "# image\n",
        "# torch.ones, torch.zeros"
      ],
      "metadata": {
        "id": "bQkUa6WO5VDG"
      },
      "execution_count": 7,
      "outputs": []
    },
    {
      "cell_type": "code",
      "source": [
        "torch.range(0, 10, 0.1), torch.arange(0, 10, 1)"
      ],
      "metadata": {
        "colab": {
          "base_uri": "https://localhost:8080/"
        },
        "id": "Fq_fDc-d6cT1",
        "outputId": "36e2c16a-5f74-4912-e806-4777cf1ce3a6"
      },
      "execution_count": 8,
      "outputs": [
        {
          "output_type": "stream",
          "name": "stderr",
          "text": [
            "<ipython-input-8-6fbb8e8ee927>:1: UserWarning: torch.range is deprecated and will be removed in a future release because its behavior is inconsistent with Python's range builtin. Instead, use torch.arange, which produces values in [start, end).\n",
            "  torch.range(0, 10, 0.1), torch.arange(0, 10, 1)\n"
          ]
        },
        {
          "output_type": "execute_result",
          "data": {
            "text/plain": [
              "(tensor([ 0.0000,  0.1000,  0.2000,  0.3000,  0.4000,  0.5000,  0.6000,  0.7000,\n",
              "          0.8000,  0.9000,  1.0000,  1.1000,  1.2000,  1.3000,  1.4000,  1.5000,\n",
              "          1.6000,  1.7000,  1.8000,  1.9000,  2.0000,  2.1000,  2.2000,  2.3000,\n",
              "          2.4000,  2.5000,  2.6000,  2.7000,  2.8000,  2.9000,  3.0000,  3.1000,\n",
              "          3.2000,  3.3000,  3.4000,  3.5000,  3.6000,  3.7000,  3.8000,  3.9000,\n",
              "          4.0000,  4.1000,  4.2000,  4.3000,  4.4000,  4.5000,  4.6000,  4.7000,\n",
              "          4.8000,  4.9000,  5.0000,  5.1000,  5.2000,  5.3000,  5.4000,  5.5000,\n",
              "          5.6000,  5.7000,  5.8000,  5.9000,  6.0000,  6.1000,  6.2000,  6.3000,\n",
              "          6.4000,  6.5000,  6.6000,  6.7000,  6.8000,  6.9000,  7.0000,  7.1000,\n",
              "          7.2000,  7.3000,  7.4000,  7.5000,  7.6000,  7.7000,  7.8000,  7.9000,\n",
              "          8.0000,  8.1000,  8.2000,  8.3000,  8.4000,  8.5000,  8.6000,  8.7000,\n",
              "          8.8000,  8.9000,  9.0000,  9.1000,  9.2000,  9.3000,  9.4000,  9.5000,\n",
              "          9.6000,  9.7000,  9.8000,  9.9000, 10.0000]),\n",
              " tensor([0, 1, 2, 3, 4, 5, 6, 7, 8, 9]))"
            ]
          },
          "metadata": {},
          "execution_count": 8
        }
      ]
    },
    {
      "cell_type": "code",
      "source": [
        "# tensor.torch.zeros_like, tensor.ones_like\n"
      ],
      "metadata": {
        "id": "O6p_5aGjFE0C"
      },
      "execution_count": 9,
      "outputs": []
    },
    {
      "cell_type": "code",
      "source": [
        "tensor = torch.tensor([1, 2, 3, 4, 5])\n",
        "tensor + 10, tensor - 10, tensor * 10, tensor / 10"
      ],
      "metadata": {
        "id": "Kvr7ZxJ_Fdnb",
        "colab": {
          "base_uri": "https://localhost:8080/"
        },
        "outputId": "7815ea30-5515-480b-baa8-4fbd4a9042cb"
      },
      "execution_count": 10,
      "outputs": [
        {
          "output_type": "execute_result",
          "data": {
            "text/plain": [
              "(tensor([11, 12, 13, 14, 15]),\n",
              " tensor([-9, -8, -7, -6, -5]),\n",
              " tensor([10, 20, 30, 40, 50]),\n",
              " tensor([0.1000, 0.2000, 0.3000, 0.4000, 0.5000]))"
            ]
          },
          "metadata": {},
          "execution_count": 10
        }
      ]
    },
    {
      "cell_type": "code",
      "source": [
        "tensor.add(10), tensor.sub(10), tensor.mul(10), tensor.div(10)"
      ],
      "metadata": {
        "colab": {
          "base_uri": "https://localhost:8080/"
        },
        "id": "RcSyzUWa00H2",
        "outputId": "3149dc1b-c636-4aa1-d9e8-c4e7f7ea1077"
      },
      "execution_count": 11,
      "outputs": [
        {
          "output_type": "execute_result",
          "data": {
            "text/plain": [
              "(tensor([11, 12, 13, 14, 15]),\n",
              " tensor([-9, -8, -7, -6, -5]),\n",
              " tensor([10, 20, 30, 40, 50]),\n",
              " tensor([0.1000, 0.2000, 0.3000, 0.4000, 0.5000]))"
            ]
          },
          "metadata": {},
          "execution_count": 11
        }
      ]
    },
    {
      "cell_type": "code",
      "source": [
        "tensor * tensor"
      ],
      "metadata": {
        "colab": {
          "base_uri": "https://localhost:8080/"
        },
        "id": "4yAUmA4A05ap",
        "outputId": "8a6b8930-84eb-49b0-910d-de24dbcddea2"
      },
      "execution_count": 12,
      "outputs": [
        {
          "output_type": "execute_result",
          "data": {
            "text/plain": [
              "tensor([ 1,  4,  9, 16, 25])"
            ]
          },
          "metadata": {},
          "execution_count": 12
        }
      ]
    },
    {
      "cell_type": "code",
      "source": [
        "torch.matmul(tensor, tensor)"
      ],
      "metadata": {
        "colab": {
          "base_uri": "https://localhost:8080/"
        },
        "id": "0ubQvEKG1f6x",
        "outputId": "9eb2fe4c-89e0-4386-b642-9891b3327924"
      },
      "execution_count": 13,
      "outputs": [
        {
          "output_type": "execute_result",
          "data": {
            "text/plain": [
              "tensor(55)"
            ]
          },
          "metadata": {},
          "execution_count": 13
        }
      ]
    },
    {
      "cell_type": "code",
      "source": [
        "%%time\n",
        "ans = 0\n",
        "for i in range(4):\n",
        "    ans += tensor[i] * tensor[i]"
      ],
      "metadata": {
        "colab": {
          "base_uri": "https://localhost:8080/"
        },
        "id": "Qn5LDcG81iHu",
        "outputId": "e386f0f4-8ddf-432e-bfa0-69f446277e5d"
      },
      "execution_count": 14,
      "outputs": [
        {
          "output_type": "stream",
          "name": "stdout",
          "text": [
            "CPU times: user 1.1 ms, sys: 0 ns, total: 1.1 ms\n",
            "Wall time: 2.1 ms\n"
          ]
        }
      ]
    },
    {
      "cell_type": "code",
      "source": [
        "%%time\n",
        "torch.matmul(tensor, tensor)"
      ],
      "metadata": {
        "colab": {
          "base_uri": "https://localhost:8080/"
        },
        "id": "cp3pYm9I2I0x",
        "outputId": "24e25c62-d2f7-49ee-a037-67670c4a5f09"
      },
      "execution_count": 15,
      "outputs": [
        {
          "output_type": "stream",
          "name": "stdout",
          "text": [
            "CPU times: user 102 µs, sys: 0 ns, total: 102 µs\n",
            "Wall time: 107 µs\n"
          ]
        },
        {
          "output_type": "execute_result",
          "data": {
            "text/plain": [
              "tensor(55)"
            ]
          },
          "metadata": {},
          "execution_count": 15
        }
      ]
    },
    {
      "cell_type": "code",
      "source": [
        "tensor @ tensor"
      ],
      "metadata": {
        "colab": {
          "base_uri": "https://localhost:8080/"
        },
        "id": "pFXG7sPo2LBS",
        "outputId": "3fc1c113-0175-4833-b1da-73098f625594"
      },
      "execution_count": 16,
      "outputs": [
        {
          "output_type": "execute_result",
          "data": {
            "text/plain": [
              "tensor(55)"
            ]
          },
          "metadata": {},
          "execution_count": 16
        }
      ]
    },
    {
      "cell_type": "markdown",
      "source": [
        "## Remeber this\n",
        "\n",
        "**For matrix multiplication to work, the last dimension of the first tensor and the second-to-last dimension of the second tensor must match. That means, for torch.matmul(A, B), the shape of A should be (X, Y, Z) and the shape of B should be (X, Z, W), where Z is the same in both tensors.**\n",
        "\n",
        "torch.matmul is same as torch.mm\n",
        "\n",
        "http://matrixmultiplication.xyz/\n"
      ],
      "metadata": {
        "id": "jCz5oH454m2V"
      }
    },
    {
      "cell_type": "code",
      "source": [
        "torch.matmul(torch.rand((2, 3, 2, 1)), torch.rand((2, 3, 1, 1)))"
      ],
      "metadata": {
        "colab": {
          "base_uri": "https://localhost:8080/"
        },
        "id": "eSXj_AjV3FvD",
        "outputId": "a207579a-d4e9-401b-e5d7-ea3bca1460a3"
      },
      "execution_count": 17,
      "outputs": [
        {
          "output_type": "execute_result",
          "data": {
            "text/plain": [
              "tensor([[[[0.1223],\n",
              "          [0.2030]],\n",
              "\n",
              "         [[0.1985],\n",
              "          [0.6147]],\n",
              "\n",
              "         [[0.2413],\n",
              "          [0.2007]]],\n",
              "\n",
              "\n",
              "        [[[0.1884],\n",
              "          [0.1415]],\n",
              "\n",
              "         [[0.5905],\n",
              "          [0.0399]],\n",
              "\n",
              "         [[0.6612],\n",
              "          [0.6182]]]])"
            ]
          },
          "metadata": {},
          "execution_count": 17
        }
      ]
    },
    {
      "cell_type": "code",
      "source": [
        "a = torch.rand(2, 3)\n",
        "b = torch.rand(2, 3)\n",
        "torch.matmul(a, b.T)"
      ],
      "metadata": {
        "colab": {
          "base_uri": "https://localhost:8080/"
        },
        "id": "qSI84f3o3rs_",
        "outputId": "0ba46fee-e097-46a3-d80b-0b64086b70b0"
      },
      "execution_count": 18,
      "outputs": [
        {
          "output_type": "execute_result",
          "data": {
            "text/plain": [
              "tensor([[0.8231, 0.5629],\n",
              "        [0.7775, 0.9529]])"
            ]
          },
          "metadata": {},
          "execution_count": 18
        }
      ]
    },
    {
      "cell_type": "code",
      "source": [
        "a = torch.rand(2, 3, 2)\n",
        "b = torch.rand(2, 2, 1)\n",
        "torch.matmul(a, b)"
      ],
      "metadata": {
        "colab": {
          "base_uri": "https://localhost:8080/"
        },
        "id": "PsQcQmkZ7SG7",
        "outputId": "2ecc4c57-7b60-4fa2-a2db-01820cb231ba"
      },
      "execution_count": 19,
      "outputs": [
        {
          "output_type": "execute_result",
          "data": {
            "text/plain": [
              "tensor([[[0.1524],\n",
              "         [0.3068],\n",
              "         [0.0699]],\n",
              "\n",
              "        [[0.6626],\n",
              "         [0.3871],\n",
              "         [0.5386]]])"
            ]
          },
          "metadata": {},
          "execution_count": 19
        }
      ]
    },
    {
      "cell_type": "code",
      "source": [
        "a = torch.rand(2, 2, 3, 5)\n",
        "b = torch.rand(2, 2, 5, 1)\n",
        "torch.matmul(a, b)"
      ],
      "metadata": {
        "colab": {
          "base_uri": "https://localhost:8080/"
        },
        "id": "RwjoquQv7WAL",
        "outputId": "fdfe37b7-1086-4fc8-b274-fbb5bb1413c1"
      },
      "execution_count": 20,
      "outputs": [
        {
          "output_type": "execute_result",
          "data": {
            "text/plain": [
              "tensor([[[[1.6722],\n",
              "          [1.7144],\n",
              "          [2.1908]],\n",
              "\n",
              "         [[1.1786],\n",
              "          [0.3579],\n",
              "          [0.6218]]],\n",
              "\n",
              "\n",
              "        [[[0.5044],\n",
              "          [1.4319],\n",
              "          [1.1872]],\n",
              "\n",
              "         [[1.5944],\n",
              "          [1.2173],\n",
              "          [1.3886]]]])"
            ]
          },
          "metadata": {},
          "execution_count": 20
        }
      ]
    },
    {
      "cell_type": "code",
      "source": [
        "tensor1 = torch.rand((2, 3, 2, 1))\n",
        "tensor2 = torch.rand((2, 2, 3, 1))\n",
        "\n",
        "# Permute the tensors to align inner dimensions\n",
        "tensor1_permuted = tensor1.permute(0, 1, 2, 3)  # (2, 3, 2, 1)\n",
        "tensor2_permuted = tensor2.permute(0, 2, 3, 1)  # (2, 3, 1, 2)\n",
        "torch.matmul(tensor1_permuted, tensor2_permuted)"
      ],
      "metadata": {
        "colab": {
          "base_uri": "https://localhost:8080/"
        },
        "id": "3ZFAjgfZ7fuy",
        "outputId": "9a372661-4385-48b2-d4c0-d21d018ac090"
      },
      "execution_count": 21,
      "outputs": [
        {
          "output_type": "execute_result",
          "data": {
            "text/plain": [
              "tensor([[[[0.0613, 0.0141],\n",
              "          [0.0757, 0.0174]],\n",
              "\n",
              "         [[0.2217, 0.1418],\n",
              "          [0.1526, 0.0976]],\n",
              "\n",
              "         [[0.6882, 0.6394],\n",
              "          [0.7852, 0.7296]]],\n",
              "\n",
              "\n",
              "        [[[0.0727, 0.0807],\n",
              "          [0.2996, 0.3326]],\n",
              "\n",
              "         [[0.1497, 0.2117],\n",
              "          [0.5601, 0.7919]],\n",
              "\n",
              "         [[0.0701, 0.0567],\n",
              "          [0.1362, 0.1101]]]])"
            ]
          },
          "metadata": {},
          "execution_count": 21
        }
      ]
    },
    {
      "cell_type": "code",
      "source": [
        "x = torch.arange(0, 1000, 10)\n",
        "torch.min(x), x.min(), torch.max(x), x.max()"
      ],
      "metadata": {
        "colab": {
          "base_uri": "https://localhost:8080/"
        },
        "id": "dUcMigJz78hS",
        "outputId": "f31490c1-9b0b-44d1-fa06-5a62bbfb1970"
      },
      "execution_count": 22,
      "outputs": [
        {
          "output_type": "execute_result",
          "data": {
            "text/plain": [
              "(tensor(0), tensor(0), tensor(990), tensor(990))"
            ]
          },
          "metadata": {},
          "execution_count": 22
        }
      ]
    },
    {
      "cell_type": "markdown",
      "source": [
        "We cannot find mean with int or long type, it should be float"
      ],
      "metadata": {
        "id": "ncNaf6dl9l5l"
      }
    },
    {
      "cell_type": "code",
      "source": [
        "torch.mean(x.type(torch.float32)), x.type(torch.float32).mean()"
      ],
      "metadata": {
        "colab": {
          "base_uri": "https://localhost:8080/"
        },
        "id": "123zvaU_8x4R",
        "outputId": "9fee479c-202b-497d-b83b-c10f44259734"
      },
      "execution_count": 23,
      "outputs": [
        {
          "output_type": "execute_result",
          "data": {
            "text/plain": [
              "(tensor(495.), tensor(495.))"
            ]
          },
          "metadata": {},
          "execution_count": 23
        }
      ]
    },
    {
      "cell_type": "code",
      "source": [
        "x.argmin(), x.argmax()"
      ],
      "metadata": {
        "colab": {
          "base_uri": "https://localhost:8080/"
        },
        "id": "E83bwioN9fe8",
        "outputId": "f61d1af6-9e84-4ef9-bec1-578a2eceef72"
      },
      "execution_count": 24,
      "outputs": [
        {
          "output_type": "execute_result",
          "data": {
            "text/plain": [
              "(tensor(0), tensor(99))"
            ]
          },
          "metadata": {},
          "execution_count": 24
        }
      ]
    },
    {
      "cell_type": "markdown",
      "source": [
        "Reshape: rehsapes the input tensor\n",
        "\n",
        "View:returns a view of the input tensor of certain shape but keeps the same memory as original tensor\n",
        "\n",
        "Stacking: hstack, vstack\n",
        "\n",
        "Squeeze: removes all 1 - dimensions of tensor\n",
        "\n",
        "Un-Squeeze - add 1 dimension of tensor\n",
        "\n",
        "permute - returns the view of input tensor with dimensions permuted(swapped)"
      ],
      "metadata": {
        "id": "vZ8ImCFd-5hP"
      }
    },
    {
      "cell_type": "code",
      "source": [
        "x = torch.rand(1, 20)\n",
        "x"
      ],
      "metadata": {
        "colab": {
          "base_uri": "https://localhost:8080/"
        },
        "id": "LJa0Fjex-asa",
        "outputId": "7f2b85f7-7b6c-4579-b73e-1a74ab32447c"
      },
      "execution_count": 25,
      "outputs": [
        {
          "output_type": "execute_result",
          "data": {
            "text/plain": [
              "tensor([[0.0970, 0.4488, 0.8927, 0.5028, 0.8658, 0.7555, 0.1616, 0.0774, 0.8527,\n",
              "         0.5989, 0.1813, 0.9048, 0.6539, 0.8744, 0.0612, 0.2013, 0.1654, 0.9616,\n",
              "         0.2504, 0.5364]])"
            ]
          },
          "metadata": {},
          "execution_count": 25
        }
      ]
    },
    {
      "cell_type": "code",
      "source": [
        "x.reshape(10, 2)\n",
        "# at the end total number of elements should be same"
      ],
      "metadata": {
        "colab": {
          "base_uri": "https://localhost:8080/"
        },
        "id": "Ujbh5skrDBcr",
        "outputId": "6d646a39-94c6-4104-d476-0d609f4ed584"
      },
      "execution_count": 26,
      "outputs": [
        {
          "output_type": "execute_result",
          "data": {
            "text/plain": [
              "tensor([[0.0970, 0.4488],\n",
              "        [0.8927, 0.5028],\n",
              "        [0.8658, 0.7555],\n",
              "        [0.1616, 0.0774],\n",
              "        [0.8527, 0.5989],\n",
              "        [0.1813, 0.9048],\n",
              "        [0.6539, 0.8744],\n",
              "        [0.0612, 0.2013],\n",
              "        [0.1654, 0.9616],\n",
              "        [0.2504, 0.5364]])"
            ]
          },
          "metadata": {},
          "execution_count": 26
        }
      ]
    },
    {
      "cell_type": "code",
      "source": [
        "z = x.view(4, 5)\n",
        "z"
      ],
      "metadata": {
        "colab": {
          "base_uri": "https://localhost:8080/"
        },
        "id": "aLVLslpNDEgy",
        "outputId": "7c5e3a05-fa74-4eee-f2a5-8710c41145d4"
      },
      "execution_count": 27,
      "outputs": [
        {
          "output_type": "execute_result",
          "data": {
            "text/plain": [
              "tensor([[0.0970, 0.4488, 0.8927, 0.5028, 0.8658],\n",
              "        [0.7555, 0.1616, 0.0774, 0.8527, 0.5989],\n",
              "        [0.1813, 0.9048, 0.6539, 0.8744, 0.0612],\n",
              "        [0.2013, 0.1654, 0.9616, 0.2504, 0.5364]])"
            ]
          },
          "metadata": {},
          "execution_count": 27
        }
      ]
    },
    {
      "cell_type": "code",
      "source": [
        "z[:,0] = 99\n",
        "z, x\n",
        "# as z is a view of x, z makes the modificaction at address level so any change in z will effect x directly(only the values, not shapes)"
      ],
      "metadata": {
        "colab": {
          "base_uri": "https://localhost:8080/"
        },
        "id": "85LJScLUDgUc",
        "outputId": "60b32467-9ac7-42a8-8fc2-58cbbdbec812"
      },
      "execution_count": 28,
      "outputs": [
        {
          "output_type": "execute_result",
          "data": {
            "text/plain": [
              "(tensor([[9.9000e+01, 4.4877e-01, 8.9268e-01, 5.0281e-01, 8.6581e-01],\n",
              "         [9.9000e+01, 1.6162e-01, 7.7388e-02, 8.5274e-01, 5.9887e-01],\n",
              "         [9.9000e+01, 9.0479e-01, 6.5392e-01, 8.7443e-01, 6.1152e-02],\n",
              "         [9.9000e+01, 1.6538e-01, 9.6161e-01, 2.5036e-01, 5.3640e-01]]),\n",
              " tensor([[9.9000e+01, 4.4877e-01, 8.9268e-01, 5.0281e-01, 8.6581e-01, 9.9000e+01,\n",
              "          1.6162e-01, 7.7388e-02, 8.5274e-01, 5.9887e-01, 9.9000e+01, 9.0479e-01,\n",
              "          6.5392e-01, 8.7443e-01, 6.1152e-02, 9.9000e+01, 1.6538e-01, 9.6161e-01,\n",
              "          2.5036e-01, 5.3640e-01]]))"
            ]
          },
          "metadata": {},
          "execution_count": 28
        }
      ]
    },
    {
      "cell_type": "code",
      "source": [
        "xstack = torch.rand(2, 2)\n",
        "print(xstack)\n",
        "xstack = torch.stack([xstack, xstack], dim = 0)\n",
        "ystack = torch.stack([xstack, xstack], dim = 1)\n",
        "\n",
        "xstack, ystack"
      ],
      "metadata": {
        "colab": {
          "base_uri": "https://localhost:8080/"
        },
        "id": "INsHgZI7FFSi",
        "outputId": "4383c522-3904-4643-d653-38ea4e1da8cc"
      },
      "execution_count": 29,
      "outputs": [
        {
          "output_type": "stream",
          "name": "stdout",
          "text": [
            "tensor([[0.3741, 0.9610],\n",
            "        [0.0885, 0.4510]])\n"
          ]
        },
        {
          "output_type": "execute_result",
          "data": {
            "text/plain": [
              "(tensor([[[0.3741, 0.9610],\n",
              "          [0.0885, 0.4510]],\n",
              " \n",
              "         [[0.3741, 0.9610],\n",
              "          [0.0885, 0.4510]]]),\n",
              " tensor([[[[0.3741, 0.9610],\n",
              "           [0.0885, 0.4510]],\n",
              " \n",
              "          [[0.3741, 0.9610],\n",
              "           [0.0885, 0.4510]]],\n",
              " \n",
              " \n",
              "         [[[0.3741, 0.9610],\n",
              "           [0.0885, 0.4510]],\n",
              " \n",
              "          [[0.3741, 0.9610],\n",
              "           [0.0885, 0.4510]]]]))"
            ]
          },
          "metadata": {},
          "execution_count": 29
        }
      ]
    },
    {
      "cell_type": "code",
      "source": [
        "tensor = torch.rand(1, 10, 1, 3)\n",
        "print(\"Original \", tensor.shape, '\\n', tensor)\n",
        "tensor = torch.squeeze(tensor)\n",
        "print(\"After Squeezing \", tensor.shape,'\\n', tensor)\n",
        "tensor = torch.unsqueeze(tensor, dim = 0)\n",
        "print(\"After Un-Squeezing \", tensor.shape, '\\n', tensor)"
      ],
      "metadata": {
        "colab": {
          "base_uri": "https://localhost:8080/"
        },
        "id": "1X1fVar7Fp2H",
        "outputId": "0426440d-98e3-49fd-ffcb-832bbfc95864"
      },
      "execution_count": 41,
      "outputs": [
        {
          "output_type": "stream",
          "name": "stdout",
          "text": [
            "Original  torch.Size([1, 10, 1, 3]) \n",
            " tensor([[[[0.1527, 0.4414, 0.9186]],\n",
            "\n",
            "         [[0.5237, 0.7689, 0.5394]],\n",
            "\n",
            "         [[0.1362, 0.5239, 0.4502]],\n",
            "\n",
            "         [[0.2663, 0.4566, 0.9266]],\n",
            "\n",
            "         [[0.3549, 0.3828, 0.3603]],\n",
            "\n",
            "         [[0.9705, 0.0999, 0.5730]],\n",
            "\n",
            "         [[0.5028, 0.7748, 0.6413]],\n",
            "\n",
            "         [[0.6071, 0.4078, 0.4046]],\n",
            "\n",
            "         [[0.7401, 0.7774, 0.6934]],\n",
            "\n",
            "         [[0.2185, 0.8012, 0.4625]]]])\n",
            "After Squeezing  torch.Size([10, 3]) \n",
            " tensor([[0.1527, 0.4414, 0.9186],\n",
            "        [0.5237, 0.7689, 0.5394],\n",
            "        [0.1362, 0.5239, 0.4502],\n",
            "        [0.2663, 0.4566, 0.9266],\n",
            "        [0.3549, 0.3828, 0.3603],\n",
            "        [0.9705, 0.0999, 0.5730],\n",
            "        [0.5028, 0.7748, 0.6413],\n",
            "        [0.6071, 0.4078, 0.4046],\n",
            "        [0.7401, 0.7774, 0.6934],\n",
            "        [0.2185, 0.8012, 0.4625]])\n",
            "After Un-Squeezing  torch.Size([1, 10, 3]) \n",
            " tensor([[[0.1527, 0.4414, 0.9186],\n",
            "         [0.5237, 0.7689, 0.5394],\n",
            "         [0.1362, 0.5239, 0.4502],\n",
            "         [0.2663, 0.4566, 0.9266],\n",
            "         [0.3549, 0.3828, 0.3603],\n",
            "         [0.9705, 0.0999, 0.5730],\n",
            "         [0.5028, 0.7748, 0.6413],\n",
            "         [0.6071, 0.4078, 0.4046],\n",
            "         [0.7401, 0.7774, 0.6934],\n",
            "         [0.2185, 0.8012, 0.4625]]])\n"
          ]
        }
      ]
    },
    {
      "cell_type": "code",
      "source": [
        "image = torch.rand(224, 224, 3)\n",
        "imagePerm1 = torch.permute(image, (2, 0, 1))\n",
        "imagePerm2 = torch.permute(image, (1, 2, 0))\n",
        "\n",
        "image.shape, imagePerm1.shape, imagePerm2.shape"
      ],
      "metadata": {
        "id": "WJWOf79ZHoDE",
        "colab": {
          "base_uri": "https://localhost:8080/"
        },
        "outputId": "28f03d64-f947-4473-ddbe-7eb537cdf5d5"
      },
      "execution_count": 43,
      "outputs": [
        {
          "output_type": "execute_result",
          "data": {
            "text/plain": [
              "(torch.Size([224, 224, 3]),\n",
              " torch.Size([3, 224, 224]),\n",
              " torch.Size([224, 3, 224]))"
            ]
          },
          "metadata": {},
          "execution_count": 43
        }
      ]
    },
    {
      "cell_type": "code",
      "source": [
        "npArr = np.arange(1.0, 10)\n",
        "tensor = torch.from_numpy(npArr)\n",
        "npArr, tensor"
      ],
      "metadata": {
        "colab": {
          "base_uri": "https://localhost:8080/"
        },
        "id": "Qz0ZASqfA2e7",
        "outputId": "3baf8516-8000-4435-88d5-c03c87790f86"
      },
      "execution_count": 46,
      "outputs": [
        {
          "output_type": "execute_result",
          "data": {
            "text/plain": [
              "(array([1., 2., 3., 4., 5., 6., 7., 8., 9.]),\n",
              " tensor([1., 2., 3., 4., 5., 6., 7., 8., 9.], dtype=torch.float64))"
            ]
          },
          "metadata": {},
          "execution_count": 46
        }
      ]
    },
    {
      "cell_type": "code",
      "source": [
        "tenArr = torch.arange(1.0, 10)\n",
        "npArr = tenArr.numpy()\n",
        "tenArr, npArr"
      ],
      "metadata": {
        "colab": {
          "base_uri": "https://localhost:8080/"
        },
        "id": "0TE9QWAUI0z2",
        "outputId": "d6c0a499-be63-43fe-981b-921bd9064f36"
      },
      "execution_count": 58,
      "outputs": [
        {
          "output_type": "execute_result",
          "data": {
            "text/plain": [
              "(tensor([1., 2., 3., 4., 5., 6., 7., 8., 9.]),\n",
              " array([1., 2., 3., 4., 5., 6., 7., 8., 9.], dtype=float32))"
            ]
          },
          "metadata": {},
          "execution_count": 58
        }
      ]
    },
    {
      "cell_type": "code",
      "source": [
        "torch.rand(3, 3)"
      ],
      "metadata": {
        "colab": {
          "base_uri": "https://localhost:8080/"
        },
        "id": "UQR8ea5IJcTy",
        "outputId": "6dcaaaaa-fb52-4795-8b24-955b113891cc"
      },
      "execution_count": 59,
      "outputs": [
        {
          "output_type": "execute_result",
          "data": {
            "text/plain": [
              "tensor([[0.2666, 0.6274, 0.2696],\n",
              "        [0.4414, 0.2969, 0.8317],\n",
              "        [0.1053, 0.2695, 0.3588]])"
            ]
          },
          "metadata": {},
          "execution_count": 59
        }
      ]
    },
    {
      "cell_type": "code",
      "source": [
        "torch.manual_seed(42)\n",
        "torch.rand(3, 3)"
      ],
      "metadata": {
        "colab": {
          "base_uri": "https://localhost:8080/"
        },
        "id": "EZWmm1wZJ70Z",
        "outputId": "8dcfefef-e727-4760-dc0d-7b031b3f8c44"
      },
      "execution_count": 60,
      "outputs": [
        {
          "output_type": "execute_result",
          "data": {
            "text/plain": [
              "tensor([[0.8823, 0.9150, 0.3829],\n",
              "        [0.9593, 0.3904, 0.6009],\n",
              "        [0.2566, 0.7936, 0.9408]])"
            ]
          },
          "metadata": {},
          "execution_count": 60
        }
      ]
    },
    {
      "cell_type": "code",
      "source": [
        "torch.rand(3, 3)\n",
        "# In Colab when you use random_seed, call it everytime wheenver you use it"
      ],
      "metadata": {
        "colab": {
          "base_uri": "https://localhost:8080/"
        },
        "id": "AqcOOQ1zKPcC",
        "outputId": "7bbc6a8c-5fe6-4257-e3c5-be3b96541f1d"
      },
      "execution_count": 61,
      "outputs": [
        {
          "output_type": "execute_result",
          "data": {
            "text/plain": [
              "tensor([[0.1332, 0.9346, 0.5936],\n",
              "        [0.8694, 0.5677, 0.7411],\n",
              "        [0.4294, 0.8854, 0.5739]])"
            ]
          },
          "metadata": {},
          "execution_count": 61
        }
      ]
    },
    {
      "cell_type": "markdown",
      "source": [
        "Running Object on GPU's"
      ],
      "metadata": {
        "id": "W_Hn0HcFK213"
      }
    },
    {
      "cell_type": "code",
      "source": [
        "torch.cuda.is_available()"
      ],
      "metadata": {
        "colab": {
          "base_uri": "https://localhost:8080/"
        },
        "id": "W2h-GiM6KRnl",
        "outputId": "8b82a3a6-9cad-42d4-c61e-f5200a300292"
      },
      "execution_count": 62,
      "outputs": [
        {
          "output_type": "execute_result",
          "data": {
            "text/plain": [
              "False"
            ]
          },
          "metadata": {},
          "execution_count": 62
        }
      ]
    },
    {
      "cell_type": "code",
      "source": [
        "device = \"cuda\" if torch.cuda.is_available() else \"cpu\"\n",
        "device"
      ],
      "metadata": {
        "colab": {
          "base_uri": "https://localhost:8080/",
          "height": 35
        },
        "id": "V6ZAKs8ALnEq",
        "outputId": "c6010b33-cd49-46b7-92e6-aafac41635ae"
      },
      "execution_count": 63,
      "outputs": [
        {
          "output_type": "execute_result",
          "data": {
            "text/plain": [
              "'cpu'"
            ],
            "application/vnd.google.colaboratory.intrinsic+json": {
              "type": "string"
            }
          },
          "metadata": {},
          "execution_count": 63
        }
      ]
    },
    {
      "cell_type": "code",
      "source": [
        "torch.cuda.device_count()"
      ],
      "metadata": {
        "colab": {
          "base_uri": "https://localhost:8080/"
        },
        "id": "aOnHWkPuLs_v",
        "outputId": "bdc1215c-48e9-49c5-e2d2-94d503cec587"
      },
      "execution_count": 64,
      "outputs": [
        {
          "output_type": "execute_result",
          "data": {
            "text/plain": [
              "0"
            ]
          },
          "metadata": {},
          "execution_count": 64
        }
      ]
    },
    {
      "cell_type": "code",
      "source": [],
      "metadata": {
        "id": "vCohMpVBLvuo"
      },
      "execution_count": null,
      "outputs": []
    }
  ]
}