{
 "cells": [
  {
   "cell_type": "code",
   "execution_count": 1,
   "metadata": {},
   "outputs": [],
   "source": [
    "import numpy as np\n",
    "import tensorflow as tf"
   ]
  },
  {
   "cell_type": "code",
   "execution_count": 9,
   "metadata": {},
   "outputs": [
    {
     "data": {
      "text/plain": [
       "array([[  90,  100,  114,  -30],\n",
       "       [ 202,  228,  262,  -70],\n",
       "       [ 314,  356,  410, -110],\n",
       "       [ 417,  474,  547, -147]])"
      ]
     },
     "execution_count": 9,
     "metadata": {},
     "output_type": "execute_result"
    }
   ],
   "source": [
    "a = np.array([\n",
    "    [1, 2, 3, 4],\n",
    "    [5, 6, 7, 8],\n",
    "    [9, 10, 11, 12],\n",
    "    [13, 14, 14, 16]\n",
    "])\n",
    "\n",
    "b = np.array([\n",
    "    [1, 2, 3, -1],\n",
    "    [5, 6, 7, -2],\n",
    "    [9, 10, 11, -3],\n",
    "    [13, 14, 16, -4]\n",
    "])\n",
    "\n",
    "np.matmul(a, b)"
   ]
  },
  {
   "cell_type": "code",
   "execution_count": 10,
   "metadata": {},
   "outputs": [
    {
     "data": {
      "text/plain": [
       "array([[  90,  100,  114,  -30],\n",
       "       [ 202,  228,  262,  -70],\n",
       "       [ 314,  356,  410, -110],\n",
       "       [ 417,  474,  547, -147]])"
      ]
     },
     "execution_count": 10,
     "metadata": {},
     "output_type": "execute_result"
    }
   ],
   "source": [
    "np.einsum(\"ij,jk -> ik\", a,b)"
   ]
  },
  {
   "cell_type": "code",
   "execution_count": 12,
   "metadata": {},
   "outputs": [
    {
     "data": {
      "text/plain": [
       "array([[  1,   4,   9,  -4],\n",
       "       [ 25,  36,  49, -16],\n",
       "       [ 81, 100, 121, -36],\n",
       "       [169, 196, 224, -64]])"
      ]
     },
     "execution_count": 12,
     "metadata": {},
     "output_type": "execute_result"
    }
   ],
   "source": [
    "np.einsum(\"ij,ij -> ij\", a, b)"
   ]
  },
  {
   "cell_type": "code",
   "execution_count": 13,
   "metadata": {},
   "outputs": [
    {
     "name": "stdout",
     "output_type": "stream",
     "text": [
      "Transpose:  [[ 1  5  9 13]\n",
      " [ 2  6 10 14]\n",
      " [ 3  7 11 14]\n",
      " [ 4  8 12 16]]\n"
     ]
    }
   ],
   "source": [
    "a = np.array([\n",
    "    [1, 2, 3, 4],\n",
    "    [5, 6, 7, 8],\n",
    "    [9, 10, 11, 12],\n",
    "    [13, 14, 14, 16]\n",
    "])\n",
    "\n",
    "print(\"Transpose: \", a.T)"
   ]
  },
  {
   "cell_type": "code",
   "execution_count": 14,
   "metadata": {},
   "outputs": [
    {
     "data": {
      "text/plain": [
       "array([[ 1,  5,  9, 13],\n",
       "       [ 2,  6, 10, 14],\n",
       "       [ 3,  7, 11, 14],\n",
       "       [ 4,  8, 12, 16]])"
      ]
     },
     "execution_count": 14,
     "metadata": {},
     "output_type": "execute_result"
    }
   ],
   "source": [
    "np.einsum(\"ij -> ji\", a)"
   ]
  },
  {
   "cell_type": "code",
   "execution_count": 20,
   "metadata": {},
   "outputs": [
    {
     "name": "stdout",
     "output_type": "stream",
     "text": [
      "(2, 3, 4) (2, 4, 3)\n",
      "[[[ -4   4   4]\n",
      "  [ -8   8   8]\n",
      "  [ -4   4   4]]\n",
      "\n",
      " [[-42  42  42]\n",
      "  [-56  56  56]\n",
      "  [-98  98  98]]]\n"
     ]
    }
   ],
   "source": [
    "# a -> (2, 3, 4)\n",
    "# b -> (2, 4, 5)\n",
    "\n",
    "# c -> (2, 3, 5)\n",
    "\n",
    "a = np.array([\n",
    "    [[1, 1, 1, 0],\n",
    "    [2, 2, 2, 0],\n",
    "    [1, 1, 1, 0]],\n",
    "    [[3, 3, 3, 0],\n",
    "     [4, 4, 4, 0],\n",
    "     [7, 7, 7, 0]]\n",
    "])\n",
    "\n",
    "b = np.array([\n",
    "    [[-1, 1, 1],\n",
    "    [-2, 2, 2],\n",
    "    [-1, 1, 1],\n",
    "    [-7, 7, 7]],\n",
    "    [[-3, 3, 3],\n",
    "     [-4, 4, 4],\n",
    "     [-7, 7, 7],\n",
    "     [5, 6, 5]]\n",
    "])\n",
    "\n",
    "print(a.shape, b.shape)\n",
    "print(np.matmul(a, b))"
   ]
  },
  {
   "cell_type": "code",
   "execution_count": 22,
   "metadata": {},
   "outputs": [
    {
     "data": {
      "text/plain": [
       "array([[[ -4,   4,   4],\n",
       "        [ -8,   8,   8],\n",
       "        [ -4,   4,   4]],\n",
       "\n",
       "       [[-42,  42,  42],\n",
       "        [-56,  56,  56],\n",
       "        [-98,  98,  98]]])"
      ]
     },
     "execution_count": 22,
     "metadata": {},
     "output_type": "execute_result"
    }
   ],
   "source": [
    "np.einsum(\"ijk,ikp -> ijp\", a, b)"
   ]
  },
  {
   "cell_type": "code",
   "execution_count": 24,
   "metadata": {},
   "outputs": [
    {
     "data": {
      "text/plain": [
       "(array([6, 6, 6]), array([3, 6, 9]))"
      ]
     },
     "execution_count": 24,
     "metadata": {},
     "output_type": "execute_result"
    }
   ],
   "source": [
    "a = np.array([\n",
    "    [1,1,1],\n",
    "    [2,2,2],\n",
    "    [3,3,3]\n",
    "])\n",
    "\n",
    "np.sum(a, axis=0), np.sum(a, axis=1)"
   ]
  },
  {
   "cell_type": "code",
   "execution_count": 32,
   "metadata": {},
   "outputs": [
    {
     "name": "stdout",
     "output_type": "stream",
     "text": [
      "Original Shape:  (2, 3, 4)\n",
      "Expanded Shape:  (1, 2, 3, 4)\n"
     ]
    }
   ],
   "source": [
    "a = np.array([\n",
    "    [[1, 1, 1, 0],\n",
    "    [2, 2, 2, 0],\n",
    "    [1, 1, 1, 0]],\n",
    "    [[3, 3, 3, 0],\n",
    "     [4, 4, 4, 0],\n",
    "     [7, 7, 7, 0]]\n",
    "])\n",
    "\n",
    "print(\"Original Shape: \", a.shape)\n",
    "aexp = tf.expand_dims(a, axis=0)\n",
    "print(\"Expanded Shape: \",aexp.shape)"
   ]
  },
  {
   "cell_type": "code",
   "execution_count": 33,
   "metadata": {},
   "outputs": [
    {
     "name": "stdout",
     "output_type": "stream",
     "text": [
      "(2, 3, 4)\n"
     ]
    }
   ],
   "source": [
    "print(tf.squeeze(aexp, axis=0).shape)"
   ]
  },
  {
   "cell_type": "code",
   "execution_count": null,
   "metadata": {},
   "outputs": [],
   "source": []
  }
 ],
 "metadata": {
  "kernelspec": {
   "display_name": "tf",
   "language": "python",
   "name": "python3"
  },
  "language_info": {
   "codemirror_mode": {
    "name": "ipython",
    "version": 3
   },
   "file_extension": ".py",
   "mimetype": "text/x-python",
   "name": "python",
   "nbconvert_exporter": "python",
   "pygments_lexer": "ipython3",
   "version": "3.11.9"
  }
 },
 "nbformat": 4,
 "nbformat_minor": 2
}
