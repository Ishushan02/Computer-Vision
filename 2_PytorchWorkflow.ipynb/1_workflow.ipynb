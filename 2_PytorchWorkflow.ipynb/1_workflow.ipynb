{
 "cells": [
  {
   "cell_type": "code",
   "execution_count": 209,
   "metadata": {},
   "outputs": [
    {
     "data": {
      "text/plain": [
       "'2.0.0'"
      ]
     },
     "execution_count": 209,
     "metadata": {},
     "output_type": "execute_result"
    }
   ],
   "source": [
    "import torch\n",
    "from torch import nn\n",
    "import matplotlib.pyplot as plt\n",
    "\n",
    "torch.__version__"
   ]
  },
  {
   "cell_type": "markdown",
   "metadata": {},
   "source": [
    "Data Preparation and Load Data"
   ]
  },
  {
   "cell_type": "code",
   "execution_count": 210,
   "metadata": {},
   "outputs": [
    {
     "name": "stdout",
     "output_type": "stream",
     "text": [
      "Shape of X:  torch.Size([100000, 1]) Shape of Y:  torch.Size([100000, 1])\n",
      "tensor([0.]) tensor([2.])\n",
      "tensor([0.0010]) tensor([2.0006])\n",
      "tensor([0.0020]) tensor([2.0012])\n",
      "tensor([0.0030]) tensor([2.0018])\n",
      "tensor([0.0040]) tensor([2.0024])\n",
      "tensor([0.0050]) tensor([2.0030])\n",
      "tensor([0.0060]) tensor([2.0036])\n",
      "tensor([0.0070]) tensor([2.0042])\n",
      "tensor([0.0080]) tensor([2.0048])\n",
      "tensor([0.0090]) tensor([2.0054])\n"
     ]
    }
   ],
   "source": [
    "weight = 0.6\n",
    "bias = 2\n",
    "\n",
    "X = torch.arange(start=0, end=100, step=0.001).unsqueeze(dim=1)\n",
    "Y = weight * X + bias\n",
    "\n",
    "print(\"Shape of X: \", X.shape,\"Shape of Y: \",  Y.shape, )\n",
    "\n",
    "for i in range(len(X[:10])):\n",
    "    print(X[i], Y[i])"
   ]
  },
  {
   "cell_type": "markdown",
   "metadata": {},
   "source": [
    "Splitting Train and Test Data"
   ]
  },
  {
   "cell_type": "code",
   "execution_count": 211,
   "metadata": {},
   "outputs": [
    {
     "name": "stdout",
     "output_type": "stream",
     "text": [
      "Training Size:  85000\n"
     ]
    },
    {
     "data": {
      "text/plain": [
       "(torch.Size([85000, 1]), torch.Size([15000, 1]))"
      ]
     },
     "execution_count": 211,
     "metadata": {},
     "output_type": "execute_result"
    }
   ],
   "source": [
    "train_len = int(0.85 * len(X))\n",
    "print(\"Training Size: \", train_len)\n",
    "\n",
    "train_X, train_y = X[:train_len], Y[:train_len]\n",
    "test_X, test_Y = X[train_len:], Y[train_len:]\n",
    "\n",
    "train_X.shape, test_X.shape"
   ]
  },
  {
   "cell_type": "code",
   "execution_count": 212,
   "metadata": {},
   "outputs": [
    {
     "data": {
      "image/png": "[encoded data removed]",
      "text/plain": [
       "<Figure size 500x300 with 1 Axes>"
      ]
     },
     "metadata": {},
     "output_type": "display_data"
    }
   ],
   "source": [
    "def plotData(X, Y, c = 'b'):\n",
    "    plt.figure(figsize=(5, 3))\n",
    "    plt.scatter(X, Y, s = 3, c = c )\n",
    "    plt.show()\n",
    "\n",
    "plotData(train_X, train_y, 'r')"
   ]
  },
  {
   "cell_type": "markdown",
   "metadata": {},
   "source": [
    "Building the Model"
   ]
  },
  {
   "cell_type": "code",
   "execution_count": 213,
   "metadata": {},
   "outputs": [],
   "source": [
    "class LinearRegression(nn.Module):\n",
    "    def __init__(self, ):\n",
    "        super().__init__()\n",
    "        self.weights = nn.Parameter(0.01 * torch.randn(1, requires_grad=True, dtype=torch.float32))\n",
    "        self.bias = nn.Parameter(0.01 * torch.randn(1, requires_grad=True, dtype=torch.float32))\n",
    "\n",
    "    def forward(self, x:torch.tensor) -> torch.tensor:\n",
    "        return self.weights * x + self.bias\n"
   ]
  },
  {
   "cell_type": "code",
   "execution_count": 214,
   "metadata": {},
   "outputs": [
    {
     "name": "stdout",
     "output_type": "stream",
     "text": [
      "Parameters:  [Parameter containing:\n",
      "tensor([0.0034], requires_grad=True), Parameter containing:\n",
      "tensor([0.0013], requires_grad=True)]\n",
      "State Dict:  OrderedDict([('weights', tensor([0.0034])), ('bias', tensor([0.0013]))])\n"
     ]
    }
   ],
   "source": [
    "torch.manual_seed(42)\n",
    "\n",
    "model_test = LinearRegression()\n",
    "\n",
    "print(\"Parameters: \", list(model_test.parameters()))\n",
    "print(\"State Dict: \", model_test.state_dict())\n"
   ]
  },
  {
   "cell_type": "code",
   "execution_count": 215,
   "metadata": {},
   "outputs": [
    {
     "data": {
      "text/plain": [
       "(tensor([[0.2875],\n",
       "         [0.2875],\n",
       "         [0.2875],\n",
       "         [0.2875],\n",
       "         [0.2875],\n",
       "         [0.2875],\n",
       "         [0.2875],\n",
       "         [0.2875],\n",
       "         [0.2875],\n",
       "         [0.2875]]),\n",
       " tensor([[53.0000],\n",
       "         [53.0006],\n",
       "         [53.0012],\n",
       "         [53.0018],\n",
       "         [53.0024],\n",
       "         [53.0030],\n",
       "         [53.0036],\n",
       "         [53.0042],\n",
       "         [53.0048],\n",
       "         [53.0054]]))"
      ]
     },
     "execution_count": 215,
     "metadata": {},
     "output_type": "execute_result"
    }
   ],
   "source": [
    "# predicting value without training the model\n",
    "\n",
    "with torch.inference_mode():\n",
    "    y_pred = model_test(test_X)\n",
    "\n",
    "# We can do the same this using\n",
    "# with torch.no_grad():\n",
    "#     y_pred = model_test(test_X)\n",
    "\n",
    "y_pred[:10], test_Y[:10]"
   ]
  },
  {
   "cell_type": "markdown",
   "metadata": {},
   "source": [
    "Training the Model"
   ]
  },
  {
   "cell_type": "code",
   "execution_count": 216,
   "metadata": {},
   "outputs": [
    {
     "name": "stdout",
     "output_type": "stream",
     "text": [
      " Epoch: 0, Train loss is 27.35531997680664 ans test loss is 53.254791259765625\n",
      "[OrderedDict([('weights', tensor([0.0459])), ('bias', tensor([0.0023]))])]\n",
      " Epoch: 20, Train loss is 0.901040256023407 ans test loss is 2.822970151901245\n",
      "[OrderedDict([('weights', tensor([0.6519])), ('bias', tensor([0.0186]))])]\n",
      " Epoch: 40, Train loss is 0.918042004108429 ans test loss is 3.1232690811157227\n",
      "[OrderedDict([('weights', tensor([0.6551])), ('bias', tensor([0.0256]))])]\n",
      " Epoch: 60, Train loss is 0.9168953895568848 ans test loss is 3.153017044067383\n",
      "[OrderedDict([('weights', tensor([0.6554])), ('bias', tensor([0.0326]))])]\n",
      " Epoch: 80, Train loss is 0.9154736399650574 ans test loss is 3.1788201332092285\n",
      "[OrderedDict([('weights', tensor([0.6556])), ('bias', tensor([0.0396]))])]\n"
     ]
    }
   ],
   "source": [
    "torch.manual_seed(42)\n",
    "lossFn = nn.L1Loss()\n",
    "optimizer = torch.optim.SGD(params=model_test.parameters(), lr=0.001)\n",
    "\n",
    "epochs = 100\n",
    "\n",
    "for each_epoch in range(epochs):\n",
    "    model_test.train()\n",
    "\n",
    "    y_pred = model_test(train_X)\n",
    "\n",
    "    loss = lossFn(y_pred, train_y)\n",
    "    optimizer.zero_grad()\n",
    "    loss.backward()\n",
    "    optimizer.step()\n",
    "\n",
    "    model_test.eval()\n",
    "    with torch.inference_mode():\n",
    "        y_pred = model_test(test_X)\n",
    "        test_loss = lossFn(y_pred, test_Y)\n",
    "    if each_epoch % 20 == 0:\n",
    "        print(f\" Epoch: {each_epoch}, Train loss is {loss.item()} ans test loss is {test_loss}\")\n",
    "        print([model_test.state_dict()])\n"
   ]
  },
  {
   "cell_type": "code",
   "execution_count": 218,
   "metadata": {},
   "outputs": [
    {
     "name": "stdout",
     "output_type": "stream",
     "text": [
      "[OrderedDict([('weights', tensor([0.6247])), ('bias', tensor([0.0457]))])]\n"
     ]
    }
   ],
   "source": [
    "print([model_test.state_dict()])\n",
    "# with torch.no_grad():\n",
    "#     y_pred = model_test(test_Y)\n",
    "\n",
    "# y_pred[:10], test_Y[:10]"
   ]
  },
  {
   "cell_type": "code",
   "execution_count": null,
   "metadata": {},
   "outputs": [],
   "source": []
  }
 ],
 "metadata": {
  "kernelspec": {
   "display_name": "pyt",
   "language": "python",
   "name": "python3"
  },
  "language_info": {
   "codemirror_mode": {
    "name": "ipython",
    "version": 3
   },
   "file_extension": ".py",
   "mimetype": "text/x-python",
   "name": "python",
   "nbconvert_exporter": "python",
   "pygments_lexer": "ipython3",
   "version": "3.11.10"
  }
 },
 "nbformat": 4,
 "nbformat_minor": 2
}
